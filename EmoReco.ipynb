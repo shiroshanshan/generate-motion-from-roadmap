{
 "cells": [
  {
   "cell_type": "code",
   "execution_count": 394,
   "metadata": {},
   "outputs": [],
   "source": [
    "import numpy as np\n",
    "import os\n",
    "import matplotlib.pyplot as plt\n",
    "import seaborn as sns\n",
    "import pandas as pd"
   ]
  },
  {
   "cell_type": "code",
   "execution_count": 407,
   "metadata": {},
   "outputs": [],
   "source": [
    "EMOTION_DIR = '/home/fan/Downloads/Emotion/'\n",
    "FACS_DIR = '/home/fan/Downloads/FACS/'\n",
    "EMOTION = ['anger', 'contempt', 'disgust', 'fear', 'happy', 'sadness', 'surprise', 'unsure']\n",
    "AU = ['AU1', 'AU2', 'AU4', 'AU5', 'AU6', 'AU7', 'AU9', 'AU10', 'AU12', 'AU15', 'AU17', 'AU20', 'AU23', 'AU26', 'AU27']"
   ]
  },
  {
   "cell_type": "code",
   "execution_count": 408,
   "metadata": {},
   "outputs": [],
   "source": [
    "def readEmotion(sub, idx, fn):\n",
    "    if not os.path.isfile('/home/fan/Downloads/Emotion/{0}/{1}/{2}'.format(sub, idx, fn[0].replace('facs', 'emotion'))):\n",
    "        return 7\n",
    "    with open('/home/fan/Downloads/Emotion/{0}/{1}/{2}'.format(sub, idx, fn[0].replace('facs', 'emotion')), 'r') as f:\n",
    "        emo = f.read()\n",
    "        \n",
    "    return int(float(emo.strip())-1)"
   ]
  },
  {
   "cell_type": "code",
   "execution_count": 409,
   "metadata": {},
   "outputs": [],
   "source": [
    "def readFACS(sub, idx, fn):\n",
    "    with open('/home/fan/Downloads/FACS/{0}/{1}/{2}'.format(sub, idx, fn[0]), 'r') as f:\n",
    "        facs = f.readlines()\n",
    "    au = np.zeros((len(facs), 2))\n",
    "    for i in range(len(facs)):\n",
    "        au[i][0] = int(float(facs[i].strip().split()[0]))\n",
    "        au[i][1] = int(float(facs[i].strip().split()[1]))\n",
    "        \n",
    "    return au"
   ]
  },
  {
   "cell_type": "code",
   "execution_count": 410,
   "metadata": {},
   "outputs": [],
   "source": [
    "def calcRelation():\n",
    "    relation = np.zeros((len(AU), len(EMOTION)-1))\n",
    "    for sub in os.listdir(FACS_DIR):\n",
    "        for idx in os.listdir(FACS_DIR + sub):\n",
    "            fn = os.listdir(FACS_DIR + sub + '/' + idx)\n",
    "            emotion = readEmotion(sub, idx, fn)\n",
    "            facs = readFACS(sub, idx, fn)\n",
    "            for i in range(len(facs)):\n",
    "                if 'AU{0}'.format(int(facs[i][0])) in AU and emotion != 7:\n",
    "                    relation[AU.index('AU{0}'.format(int(facs[i][0]))), emotion] += 1\n",
    "                    \n",
    "    return relation"
   ]
  },
  {
   "cell_type": "code",
   "execution_count": 411,
   "metadata": {},
   "outputs": [],
   "source": [
    "def normalize(matrix):\n",
    "    for c in range(matrix.shape[1]):\n",
    "        matrix[:,c] /= np.sum(matrix[:,c])\n",
    "    matrix[np.isnan(matrix)] = 0\n",
    "    \n",
    "    return matrix"
   ]
  },
  {
   "cell_type": "code",
   "execution_count": 413,
   "metadata": {},
   "outputs": [],
   "source": [
    "def calculateEva(relation, emotion, au):\n",
    "    p1 = relation[au,emotion]/sum(relation[:,emotion])\n",
    "    p2 = (sum(relation[au,:]) - relation[au,emotion]) / (np.sum(relation) - sum(relation[:,emotion]))\n",
    "    \n",
    "    return p1 - p2"
   ]
  },
  {
   "cell_type": "code",
   "execution_count": 425,
   "metadata": {},
   "outputs": [],
   "source": [
    "def evaMatrix(idx):\n",
    "    matrix = calcRelation()\n",
    "    relation = [[calculateEva(matrix, i, j) for j in range(len(AU))] for i in range(7)]\n",
    "    evaluation = np.array([sorted(r)[::-1][:idx] for r in relation])\n",
    "    relation = [[relation[i].index(e) for e in evaluation[i]] for i in range(len(evaluation))]\n",
    "    \n",
    "    return evaluation, relation"
   ]
  },
  {
   "cell_type": "code",
   "execution_count": 440,
   "metadata": {},
   "outputs": [],
   "source": [
    "class LCS:\n",
    "    \n",
    "    def __init__(self, relation):\n",
    "        self.relation = relation\n",
    "        \n",
    "    def lcs_sim(self, s1, s2):\n",
    "        dp = np.zeros((len(s1)+1, len(s2)+1))\n",
    "        for i in range(len(s1)):\n",
    "            for j in range(len(s2)):\n",
    "                if s1[i] == s2[j]:\n",
    "                    dp[i+1][j+1] = dp[i][j] + 1\n",
    "                else:\n",
    "                    dp[i+1][j+1] = max(dp[i][j+1], dp[i+1][j])\n",
    "        return dp[-1][-1]\n",
    "        \n",
    "    def predict(self, s):\n",
    "        sims = [self.lcs_sim(r, s) for r in self.relation]\n",
    "        emotion = sims.index(max(sims))\n",
    "        \n",
    "        return emotion"
   ]
  },
  {
   "cell_type": "code",
   "execution_count": 427,
   "metadata": {},
   "outputs": [],
   "source": [
    "class Test:\n",
    "    def readEmotion(self):\n",
    "        print(EMOTION[readEmotion('S035', '006', ['S035_006_00000018_emotion.txt'])])\n",
    "        \n",
    "    def readFACS(self):\n",
    "        print(readFACS('S035', '006', ['S035_006_00000018_facs.txt']))"
   ]
  },
  {
   "cell_type": "code",
   "execution_count": 428,
   "metadata": {},
   "outputs": [
    {
     "data": {
      "text/plain": [
       "(array([ 0.5,  1.5,  2.5,  3.5,  4.5,  5.5,  6.5,  7.5,  8.5,  9.5, 10.5,\n",
       "        11.5, 12.5, 13.5, 14.5]), <a list of 15 Text yticklabel objects>)"
      ]
     },
     "execution_count": 428,
     "metadata": {},
     "output_type": "execute_result"
    },
    {
     "data": {
      "image/png": "[encoded data removed]",
      "text/plain": [
       "<Figure size 720x720 with 2 Axes>"
      ]
     },
     "metadata": {},
     "output_type": "display_data"
    }
   ],
   "source": [
    "plt.figure(figsize=(10,10))\n",
    "df = pd.DataFrame(calcRelation(), columns=EMOTION[:-1], index=AU)\n",
    "ax = sns.heatmap(df, cmap='hot')\n",
    "plt.yticks(rotation=0)"
   ]
  },
  {
   "cell_type": "code",
   "execution_count": 429,
   "metadata": {},
   "outputs": [],
   "source": [
    "evaluation, relation = evaMatrix(5)"
   ]
  },
  {
   "cell_type": "code",
   "execution_count": 431,
   "metadata": {},
   "outputs": [
    {
     "data": {
      "text/html": [
       "<div>\n",
       "<style scoped>\n",
       "    .dataframe tbody tr th:only-of-type {\n",
       "        vertical-align: middle;\n",
       "    }\n",
       "\n",
       "    .dataframe tbody tr th {\n",
       "        vertical-align: top;\n",
       "    }\n",
       "\n",
       "    .dataframe thead th {\n",
       "        text-align: right;\n",
       "    }\n",
       "</style>\n",
       "<table border=\"1\" class=\"dataframe\">\n",
       "  <thead>\n",
       "    <tr style=\"text-align: right;\">\n",
       "      <th></th>\n",
       "      <th>0</th>\n",
       "      <th>1</th>\n",
       "      <th>2</th>\n",
       "      <th>3</th>\n",
       "      <th>4</th>\n",
       "    </tr>\n",
       "  </thead>\n",
       "  <tbody>\n",
       "    <tr>\n",
       "      <th>anger</th>\n",
       "      <td>0.204089</td>\n",
       "      <td>0.147175</td>\n",
       "      <td>0.145382</td>\n",
       "      <td>0.136700</td>\n",
       "      <td>-0.002490</td>\n",
       "    </tr>\n",
       "    <tr>\n",
       "      <th>contempt</th>\n",
       "      <td>0.207289</td>\n",
       "      <td>0.194967</td>\n",
       "      <td>0.175334</td>\n",
       "      <td>0.016082</td>\n",
       "      <td>-0.014098</td>\n",
       "    </tr>\n",
       "    <tr>\n",
       "      <th>disgust</th>\n",
       "      <td>0.288060</td>\n",
       "      <td>0.117200</td>\n",
       "      <td>0.113734</td>\n",
       "      <td>0.083509</td>\n",
       "      <td>0.026116</td>\n",
       "    </tr>\n",
       "    <tr>\n",
       "      <th>fear</th>\n",
       "      <td>0.215323</td>\n",
       "      <td>0.078585</td>\n",
       "      <td>0.078162</td>\n",
       "      <td>0.060537</td>\n",
       "      <td>0.023407</td>\n",
       "    </tr>\n",
       "    <tr>\n",
       "      <th>happy</th>\n",
       "      <td>0.445015</td>\n",
       "      <td>0.421072</td>\n",
       "      <td>0.019289</td>\n",
       "      <td>-0.016026</td>\n",
       "      <td>-0.020928</td>\n",
       "    </tr>\n",
       "    <tr>\n",
       "      <th>sadness</th>\n",
       "      <td>0.196909</td>\n",
       "      <td>0.153645</td>\n",
       "      <td>0.126098</td>\n",
       "      <td>0.105250</td>\n",
       "      <td>-0.009529</td>\n",
       "    </tr>\n",
       "    <tr>\n",
       "      <th>surprise</th>\n",
       "      <td>0.227059</td>\n",
       "      <td>0.222910</td>\n",
       "      <td>0.187733</td>\n",
       "      <td>0.184898</td>\n",
       "      <td>0.019102</td>\n",
       "    </tr>\n",
       "  </tbody>\n",
       "</table>\n",
       "</div>"
      ],
      "text/plain": [
       "                 0         1         2         3         4\n",
       "anger     0.204089  0.147175  0.145382  0.136700 -0.002490\n",
       "contempt  0.207289  0.194967  0.175334  0.016082 -0.014098\n",
       "disgust   0.288060  0.117200  0.113734  0.083509  0.026116\n",
       "fear      0.215323  0.078585  0.078162  0.060537  0.023407\n",
       "happy     0.445015  0.421072  0.019289 -0.016026 -0.020928\n",
       "sadness   0.196909  0.153645  0.126098  0.105250 -0.009529\n",
       "surprise  0.227059  0.222910  0.187733  0.184898  0.019102"
      ]
     },
     "execution_count": 431,
     "metadata": {},
     "output_type": "execute_result"
    }
   ],
   "source": [
    "df2 = pd.DataFrame(evaluation, index=EMOTION[:-1])\n",
    "df2"
   ]
  },
  {
   "cell_type": "code",
   "execution_count": 433,
   "metadata": {},
   "outputs": [
    {
     "data": {
      "text/html": [
       "<div>\n",
       "<style scoped>\n",
       "    .dataframe tbody tr th:only-of-type {\n",
       "        vertical-align: middle;\n",
       "    }\n",
       "\n",
       "    .dataframe tbody tr th {\n",
       "        vertical-align: top;\n",
       "    }\n",
       "\n",
       "    .dataframe thead th {\n",
       "        text-align: right;\n",
       "    }\n",
       "</style>\n",
       "<table border=\"1\" class=\"dataframe\">\n",
       "  <thead>\n",
       "    <tr style=\"text-align: right;\">\n",
       "      <th></th>\n",
       "      <th>0</th>\n",
       "      <th>1</th>\n",
       "      <th>2</th>\n",
       "      <th>3</th>\n",
       "      <th>4</th>\n",
       "    </tr>\n",
       "  </thead>\n",
       "  <tbody>\n",
       "    <tr>\n",
       "      <th>anger</th>\n",
       "      <td>12</td>\n",
       "      <td>10</td>\n",
       "      <td>2</td>\n",
       "      <td>5</td>\n",
       "      <td>7</td>\n",
       "    </tr>\n",
       "    <tr>\n",
       "      <th>contempt</th>\n",
       "      <td>8</td>\n",
       "      <td>9</td>\n",
       "      <td>10</td>\n",
       "      <td>12</td>\n",
       "      <td>7</td>\n",
       "    </tr>\n",
       "    <tr>\n",
       "      <th>disgust</th>\n",
       "      <td>6</td>\n",
       "      <td>10</td>\n",
       "      <td>5</td>\n",
       "      <td>2</td>\n",
       "      <td>7</td>\n",
       "    </tr>\n",
       "    <tr>\n",
       "      <th>fear</th>\n",
       "      <td>11</td>\n",
       "      <td>0</td>\n",
       "      <td>2</td>\n",
       "      <td>3</td>\n",
       "      <td>7</td>\n",
       "    </tr>\n",
       "    <tr>\n",
       "      <th>happy</th>\n",
       "      <td>8</td>\n",
       "      <td>4</td>\n",
       "      <td>13</td>\n",
       "      <td>7</td>\n",
       "      <td>11</td>\n",
       "    </tr>\n",
       "    <tr>\n",
       "      <th>sadness</th>\n",
       "      <td>9</td>\n",
       "      <td>10</td>\n",
       "      <td>0</td>\n",
       "      <td>2</td>\n",
       "      <td>13</td>\n",
       "    </tr>\n",
       "    <tr>\n",
       "      <th>surprise</th>\n",
       "      <td>1</td>\n",
       "      <td>14</td>\n",
       "      <td>3</td>\n",
       "      <td>0</td>\n",
       "      <td>13</td>\n",
       "    </tr>\n",
       "  </tbody>\n",
       "</table>\n",
       "</div>"
      ],
      "text/plain": [
       "           0   1   2   3   4\n",
       "anger     12  10   2   5   7\n",
       "contempt   8   9  10  12   7\n",
       "disgust    6  10   5   2   7\n",
       "fear      11   0   2   3   7\n",
       "happy      8   4  13   7  11\n",
       "sadness    9  10   0   2  13\n",
       "surprise   1  14   3   0  13"
      ]
     },
     "execution_count": 433,
     "metadata": {},
     "output_type": "execute_result"
    }
   ],
   "source": [
    "df3 = pd.DataFrame(relation, index=EMOTION[:-1])\n",
    "df3"
   ]
  },
  {
   "cell_type": "code",
   "execution_count": 443,
   "metadata": {},
   "outputs": [],
   "source": [
    "relation = [sorted(r) for r in relation]"
   ]
  },
  {
   "cell_type": "code",
   "execution_count": 444,
   "metadata": {},
   "outputs": [
    {
     "name": "stdout",
     "output_type": "stream",
     "text": [
      "precision: 302/327\n"
     ]
    }
   ],
   "source": [
    "def evaluation():\n",
    "    s = 0\n",
    "    c = 0\n",
    "    lcs = LCS(relation)\n",
    "    for sub in os.listdir(FACS_DIR):\n",
    "        for idx in os.listdir(FACS_DIR + sub):\n",
    "            fn = os.listdir(FACS_DIR + sub + '/' + idx)\n",
    "            emotion = readEmotion(sub, idx, fn)\n",
    "            facs = readFACS(sub, idx, fn)\n",
    "            facs = [f[0] for f in facs]\n",
    "            facs = [AU.index('AU{0}'.format(int(f))) for f in facs if 'AU{0}'.format(int(f)) in AU]\n",
    "            if emotion != 7:\n",
    "                prediction = lcs.predict(facs)\n",
    "                if prediction == emotion:\n",
    "                    c += 1\n",
    "                    s += 1\n",
    "                else:\n",
    "                    s += 1\n",
    "    print('precision: {0}/{1}'.format(c, s))\n",
    "evaluation()"
   ]
  },
  {
   "cell_type": "code",
   "execution_count": null,
   "metadata": {},
   "outputs": [],
   "source": []
  }
 ],
 "metadata": {
  "kernelspec": {
   "display_name": "tensorflow",
   "language": "python",
   "name": "tensorflow"
  },
  "language_info": {
   "codemirror_mode": {
    "name": "ipython",
    "version": 2
   },
   "file_extension": ".py",
   "mimetype": "text/x-python",
   "name": "python",
   "nbconvert_exporter": "python",
   "pygments_lexer": "ipython2",
   "version": "2.7.12"
  }
 },
 "nbformat": 4,
 "nbformat_minor": 2
}
