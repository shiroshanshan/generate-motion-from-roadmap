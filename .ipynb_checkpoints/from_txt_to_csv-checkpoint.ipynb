{
 "cells": [
  {
   "cell_type": "code",
   "execution_count": 9,
   "metadata": {},
   "outputs": [],
   "source": [
    "import os\n",
    "import re\n",
    "import csv\n",
    "import numpy as np"
   ]
  },
  {
   "cell_type": "code",
   "execution_count": 11,
   "metadata": {},
   "outputs": [
    {
     "name": "stdout",
     "output_type": "stream",
     "text": [
      "81 files need to be process\n",
      "saved\n"
     ]
    }
   ],
   "source": [
    "CSVDIR = '/home/fan/generate-motion-from-roadmap/csv/'\n",
    "DIR = '/home/fan/generate-motion-from-roadmap/rotation/'\n",
    "joint = [\"index\", \"上半身\", \"下半身\", \"首\", \"頭\", \"左肩\", \"左腕\", \"左ひじ\",\"右肩\", \"右腕\", \"右ひじ\"]\n",
    "    \n",
    "files = os.listdir(DIR)\n",
    "print('%d files need to be process'%(len(files)))\n",
    "for file in files:\n",
    "    data = []\n",
    "    txtdir = os.path.join('%s%s'%(DIR, file))\n",
    "    with open(txtdir, 'r') as txtfile:\n",
    "        cnt = 0\n",
    "        for line in txtfile:\n",
    "            line = line2list(line)\n",
    "            line.insert(0, cnt)\n",
    "            data.append(line)\n",
    "            cnt += 1\n",
    "    data = np.array(data)\n",
    "    csvdir = os.path.join('%s%s%s'%(CSVDIR, file.split('.')[0], '.csv'))\n",
    "    with open(csvdir, 'w') as csvfile:\n",
    "        writer = csv.writer(csvfile)\n",
    "        writer.writerow(joint)\n",
    "        writer.writerows(data)\n",
    "print('saved')"
   ]
  },
  {
   "cell_type": "code",
   "execution_count": 7,
   "metadata": {},
   "outputs": [],
   "source": [
    "def line2list(data_string):\n",
    "    line = re.split(r'[,\\s]+',data_string)\n",
    "    if '' in line:\n",
    "        line.remove('')\n",
    "    else:\n",
    "        pass\n",
    "    for i in range(len(line)):\n",
    "        line[i] = float(line[i])\n",
    "    \n",
    "    return line"
   ]
  },
  {
   "cell_type": "code",
   "execution_count": 15,
   "metadata": {},
   "outputs": [
    {
     "ename": "NameError",
     "evalue": "name 'join' is not defined",
     "output_type": "error",
     "traceback": [
      "\u001b[0;31m---------------------------------------------------------------------------\u001b[0m",
      "\u001b[0;31mNameError\u001b[0m                                 Traceback (most recent call last)",
      "\u001b[0;32m<ipython-input-15-514d1cec7874>\u001b[0m in \u001b[0;36m<module>\u001b[0;34m()\u001b[0m\n\u001b[0;32m----> 1\u001b[0;31m \u001b[0mjoin\u001b[0m\u001b[0;34m(\u001b[0m\u001b[0;34m'1'\u001b[0m\u001b[0;34m,\u001b[0m\u001b[0;34m'!'\u001b[0m\u001b[0;34m)\u001b[0m\u001b[0;34m\u001b[0m\u001b[0m\n\u001b[0m",
      "\u001b[0;31mNameError\u001b[0m: name 'join' is not defined"
     ]
    }
   ],
   "source": [
    "join('1','!')"
   ]
  },
  {
   "cell_type": "code",
   "execution_count": null,
   "metadata": {},
   "outputs": [],
   "source": []
  }
 ],
 "metadata": {
  "kernelspec": {
   "display_name": "python3",
   "language": "python",
   "name": "python3"
  },
  "language_info": {
   "codemirror_mode": {
    "name": "ipython",
    "version": 2
   },
   "file_extension": ".py",
   "mimetype": "text/x-python",
   "name": "python",
   "nbconvert_exporter": "python",
   "pygments_lexer": "ipython2",
   "version": "2.7.12"
  }
 },
 "nbformat": 4,
 "nbformat_minor": 2
}
